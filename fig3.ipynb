{
 "cells": [
  {
   "cell_type": "markdown",
   "id": "79397f4d-a0e8-4d80-91f4-d55817eed0b9",
   "metadata": {
    "jp-MarkdownHeadingCollapsed": true
   },
   "source": [
    "## Data Preprocess"
   ]
  },
  {
   "cell_type": "code",
   "execution_count": 1,
   "id": "5d754c62-7a2b-4992-89db-cf990b407c77",
   "metadata": {},
   "outputs": [],
   "source": [
    "%load_ext autoreload\n",
    "%autoreload 2\n",
    "import os\n",
    "os.environ['CUDA_VISIBLE_DEVICES'] = '9'\n",
    "from deepsramp import *"
   ]
  },
  {
   "cell_type": "code",
   "execution_count": 4,
   "id": "c062fe6d-f0fe-47b2-bc93-82e8d2a68b8f",
   "metadata": {},
   "outputs": [],
   "source": [
    "from joblib import Parallel, delayed\n",
    "import random\n",
    "\n",
    "def task_transform(name, position=0):\n",
    "    idf = df\n",
    "    indf = ndf\n",
    "    \n",
    "    tdf = []\n",
    "    for _, i in tqdm(idf.iterrows(), total=idf.shape[0], position=position):\n",
    "        exist_grp = set()\n",
    "\n",
    "        pospos = list(utils.notnaor(i[name], []))\n",
    "        negpos = list(utils.notnaor(i[f'{name}_neg'], []))\n",
    "\n",
    "        for pos, label in [(pospos, 1), (negpos, 0)]:\n",
    "            for j in pos:\n",
    "                genome_pos = get_genome_pos(j, i)\n",
    "                if i[0] + i[6] + str(genome_pos) in exist_grp: continue\n",
    "                else: exist_grp.add(i[0] + i[6] + str(genome_pos))\n",
    "                for trans, k in indf.loc[i.id].iterrows():\n",
    "                    mature_pos = get_mature_pos(genome_pos, k)\n",
    "                    if mature_pos != -1:\n",
    "                        tdf += [(i.id, trans, mature_pos, i[0] + i[6] + str(genome_pos), label)]\n",
    "\n",
    "    tdf = pd.DataFrame(tdf, columns=['id', 'trans', 'pos', 'grp', 'label'])\n",
    "    tdf = tdf.merge(indf.reset_index(), left_on=['id', 'trans'], right_on=['id', 'trans'])\n",
    "\n",
    "    return name, tdf\n",
    "\n",
    "def task_atlas(m6adf):\n",
    "    tqdm.pandas()\n",
    "    m6adf['pos'] = m6adf.progress_apply(lambda x: [\n",
    "        [\n",
    "            gene, \n",
    "            trans, \n",
    "            (lambda y: y if y != -1 and len(re.findall(RRACH_PAT, i.seq[y-2:y+3])) else -1)(get_mature_pos(x['start'], i)),\n",
    "            # x['seqnames'] + x['strand'] + str(x['start'])\n",
    "            i.length # for max length\n",
    "        ] for (gene, trans), i in get_trans(x['seqnames'], x['strand'], x['start'], ndf).iterrows()\n",
    "    ], axis=1)\n",
    "    m6adf['pos'] = m6adf.pos.apply(lambda x: [i for i in x if i[2] != -1]) # drop -1\n",
    "    m6adf['pos'] = m6adf.pos.apply(lambda x: [max(x, key=lambda y: y[-1])[:-1]] if x else []) # keep max length\n",
    "    return m6adf\n",
    "\n",
    "def get_m6a_neg_ratio4(osdf, label='m6a_pos', test_ratio=10, pat=RRACH_PAT):\n",
    "    sdf = osdf\n",
    "    \n",
    "    sdf['_test_len'] = (sdf[label].apply(lambda x: len(utils.notnaor(x, []))) * test_ratio).apply(round)\n",
    "    sdf['_neg'] = sdf.apply(lambda x: (random.choices(list(x.m6a_neg), k=x._test_len)) if len(x.m6a_neg) else [], axis=1)\n",
    "    sdf[f'{label}_neg'] = sdf.apply(lambda x: set(x._neg[:x._test_len]), axis=1)\n",
    "    \n",
    "    return sdf\n",
    "\n",
    "def atlas(m6adf, file):\n",
    "    m6adf['start'] -= 1\n",
    "    m6adf['seqnames'] = m6adf['seqnames'].str.slice(3).replace({'M': 'MT'})\n",
    "    \n",
    "    npar = 40\n",
    "    nperpar = m6adf.shape[0] // npar + 1\n",
    "    m6adf = Parallel(n_jobs=npar)(delayed(task_atlas)(m6adf.iloc[i*nperpar:(i+1)*nperpar]) for i in range(npar))\n",
    "    m6adf = pd.concat(m6adf)\n",
    "        \n",
    "    m6adf['Cell_Line'] = m6adf.Cell_Line.apply(lambda x: list(map(lambda y: y.strip(), x.split(';'))))\n",
    "    m6adf = m6adf.explode('Cell_Line')\n",
    "    \n",
    "    ress = []\n",
    "    for cl, i in tqdm(m6adf.groupby(['Cell_Line', 'Technique'])):\n",
    "        cl = ('_'.join(cl))\n",
    "        # if cl not in ['A549_m6A-CLIP-seq', 'CD8T_m6A-CLIP-seq', 'HEK293T_miCLIP ', 'MOLM13_miCLIP ']: continue\n",
    "        res = pd.DataFrame(sum(i.pos, []), columns=ndf.index.names+[cl])\n",
    "        res = res[res[cl] != -1]\n",
    "        res = res.groupby(ndf.index.names).agg(lambda x: set(x))\n",
    "        ress += [res]\n",
    "    \n",
    "    res = pd.concat(ress, axis=1)\n",
    "    res['m6a_pos'] = res.apply(lambda x: set(sum([list(i) for i in x if i==i], [])), axis=1)\n",
    "    res = pd.concat([ndf, res], axis=1)\n",
    "    res = res.dropna(subset=['m6a_pos'])\n",
    "    res = get_m6a_neg(res)\n",
    "    \n",
    "    cls = res.columns[9:-2].tolist()\n",
    "    df = res.reset_index().set_index('trans')\n",
    "    \n",
    "    for i in tqdm(cls):\n",
    "        df = get_m6a_neg_ratio4(df, label=i, test_ratio=10)\n",
    "    \n",
    "    utils.save([df, cls, ndf], file)"
   ]
  },
  {
   "cell_type": "markdown",
   "id": "f483d010-7e67-4c2e-bdcb-9db4ffbea93d",
   "metadata": {
    "jp-MarkdownHeadingCollapsed": true
   },
   "source": [
    "## Human"
   ]
  },
  {
   "cell_type": "code",
   "execution_count": 5,
   "id": "4cd80a47-afea-439a-80be-39d22ee6ae25",
   "metadata": {},
   "outputs": [
    {
     "name": "stderr",
     "output_type": "stream",
     "text": [
      "/nfs/fanrui/work/deepsramp/deepsramp/preprocess.py:30: DtypeWarning: Columns (0) have mixed types. Specify dtype option on import or set low_memory=False.\n",
      "  gtf = pd.read_csv(filename, sep='\\t', comment='#', header=None)\n",
      "51662809it [02:30, 342889.52it/s]"
     ]
    },
    {
     "name": "stdout",
     "output_type": "stream",
     "text": [
      "CPU times: user 1min 38s, sys: 1min 32s, total: 3min 11s\n",
      "Wall time: 3min 9s\n"
     ]
    },
    {
     "name": "stderr",
     "output_type": "stream",
     "text": [
      "\n"
     ]
    }
   ],
   "source": [
    "%%time\n",
    "gtf = read_gtf('data/Homo_sapiens.GRCh38.79.gtf.gz')\n",
    "seqs = read_seq('data/Homo_sapiens.GRCh38.dna.primary_assembly.fa.gz')"
   ]
  },
  {
   "cell_type": "code",
   "execution_count": 6,
   "id": "f9bec22a-b4ba-43d6-a206-fc6591fd86c4",
   "metadata": {},
   "outputs": [
    {
     "name": "stdout",
     "output_type": "stream",
     "text": [
      "CPU times: user 16.2 s, sys: 1.96 s, total: 18.2 s\n",
      "Wall time: 18.1 s\n"
     ]
    }
   ],
   "source": [
    "%%time\n",
    "sdf = get_mature_splice(gtf, seqs, grp=['id', 'trans'], keepmax=False)\n",
    "ndf = get_mature_cds(gtf, sdf, grp=['id', 'trans'])"
   ]
  },
  {
   "cell_type": "code",
   "execution_count": null,
   "id": "bbb7c8e3-1e7a-470e-a4ed-c8a2da07dad7",
   "metadata": {},
   "outputs": [],
   "source": [
    "# atlas2 human\n",
    "m6adf = pd.concat([\n",
    "    pd.read_csv('data/m6aatlas/m6A-Atlas2_Human_Site_last7method.txt', sep='\\t'), \n",
    "    pd.read_csv('data/m6aatlas/m6A-Atlas2_Human_Site_top5Method.txt', sep='\\t')\n",
    "])\n",
    "atlas(m6adf, 'data/m6aatlas/atlas2_human.data')\n"
   ]
  },
  {
   "cell_type": "markdown",
   "id": "6758a1aa-4320-4677-a548-0f9330502a5e",
   "metadata": {
    "jp-MarkdownHeadingCollapsed": true
   },
   "source": [
    "## Mouse"
   ]
  },
  {
   "cell_type": "code",
   "execution_count": 11,
   "id": "af19e895-9c9e-4ad6-b962-cd6d371861a5",
   "metadata": {},
   "outputs": [
    {
     "name": "stderr",
     "output_type": "stream",
     "text": [
      "/nfs/fanrui/work/deepsramp/deepsramp/preprocess.py:30: DtypeWarning: Columns (0) have mixed types. Specify dtype option on import or set low_memory=False.\n",
      "  gtf = pd.read_csv(filename, sep='\\t', comment='#', header=None)\n",
      "45514629it [01:22, 549924.18it/s]"
     ]
    },
    {
     "name": "stdout",
     "output_type": "stream",
     "text": [
      "CPU times: user 1min 25s, sys: 29.4 s, total: 1min 55s\n",
      "Wall time: 1min 56s\n"
     ]
    },
    {
     "name": "stderr",
     "output_type": "stream",
     "text": [
      "\n"
     ]
    }
   ],
   "source": [
    "%%time\n",
    "gtf = read_gtf('data/Mus_musculus.GRCm38.102.gtf.gz')\n",
    "seqs = read_seq('data/Mus_musculus.GRCm38.dna.primary_assembly.fa.gz')"
   ]
  },
  {
   "cell_type": "code",
   "execution_count": 12,
   "id": "2f43c7de-37a6-441b-bb64-b216def4bc50",
   "metadata": {},
   "outputs": [
    {
     "name": "stdout",
     "output_type": "stream",
     "text": [
      "CPU times: user 12.1 s, sys: 1.07 s, total: 13.1 s\n",
      "Wall time: 13.1 s\n"
     ]
    }
   ],
   "source": [
    "%%time\n",
    "sdf = get_mature_splice(gtf, seqs, grp=['id', 'trans'], keepmax=False)\n",
    "ndf = get_mature_cds(gtf, sdf, grp=['id', 'trans'])"
   ]
  },
  {
   "cell_type": "code",
   "execution_count": null,
   "id": "868a6011-6c96-4cd2-ba30-bf2137ff2048",
   "metadata": {},
   "outputs": [],
   "source": [
    "# atlas2 mouse\n",
    "m6adf = pd.concat([\n",
    "    pd.read_csv('data/m6aatlas/m6A-Atlas2_Mouse_Site_1.txt', sep='\\t'),\n",
    "    pd.read_csv('data/m6aatlas/m6A-Atlas2_Mouse_Site_2.txt', sep='\\t')\n",
    "])\n",
    "atlas(m6adf, 'data/m6aatlas/atlas2_mouse.data')\n"
   ]
  },
  {
   "cell_type": "markdown",
   "id": "0ee91df5-10ae-4295-bb02-b149ef3551d7",
   "metadata": {
    "jp-MarkdownHeadingCollapsed": true
   },
   "source": [
    "## Rat"
   ]
  },
  {
   "cell_type": "code",
   "execution_count": 14,
   "id": "d98bde22-69a0-40c6-ab4b-1a15e20e2dbe",
   "metadata": {},
   "outputs": [
    {
     "name": "stderr",
     "output_type": "stream",
     "text": [
      "/nfs/fanrui/work/deepsramp/deepsramp/preprocess.py:30: DtypeWarning: Columns (0) have mixed types. Specify dtype option on import or set low_memory=False.\n",
      "  gtf = pd.read_csv(filename, sep='\\t', comment='#', header=None)\n",
      "47837831it [01:57, 407265.28it/s]"
     ]
    },
    {
     "name": "stdout",
     "output_type": "stream",
     "text": [
      "CPU times: user 1min 17s, sys: 51 s, total: 2min 8s\n",
      "Wall time: 2min 8s\n"
     ]
    },
    {
     "name": "stderr",
     "output_type": "stream",
     "text": [
      "\n"
     ]
    }
   ],
   "source": [
    "%%time\n",
    "gtf = read_gtf('data/Rattus_norvegicus.Rnor_6.0.104.gtf.gz')\n",
    "seqs = read_seq('data/Rattus_norvegicus.Rnor_6.0.dna.toplevel.fa.gz')"
   ]
  },
  {
   "cell_type": "code",
   "execution_count": 15,
   "id": "2829050d-2c2d-4819-99a0-7a839e94bbe8",
   "metadata": {},
   "outputs": [
    {
     "name": "stdout",
     "output_type": "stream",
     "text": [
      "CPU times: user 6.97 s, sys: 460 ms, total: 7.43 s\n",
      "Wall time: 7.43 s\n"
     ]
    }
   ],
   "source": [
    "%%time\n",
    "sdf = get_mature_splice(gtf, seqs, grp=['id', 'trans'], keepmax=False)\n",
    "ndf = get_mature_cds(gtf, sdf, grp=['id', 'trans'])"
   ]
  },
  {
   "cell_type": "code",
   "execution_count": null,
   "id": "7014c840-26c9-4291-827d-506ae23f128d",
   "metadata": {},
   "outputs": [],
   "source": [
    "m6adf = pd.read_csv('data/m6aatlas/m6A-Atlas2_Rat_Site.txt', sep='\\t')\n",
    "atlas(m6adf, 'data/m6aatlas/atlas2_rat.data')"
   ]
  },
  {
   "cell_type": "markdown",
   "id": "ce4c53db-4328-4d31-8e34-2688f688093e",
   "metadata": {
    "jp-MarkdownHeadingCollapsed": true
   },
   "source": [
    "## Test on Single Model"
   ]
  },
  {
   "cell_type": "code",
   "execution_count": 11,
   "id": "280dc205-078f-4772-9a30-08c445001998",
   "metadata": {},
   "outputs": [],
   "source": [
    "df, cls, ndf = utils.load('data/m6aatlas/atlas2_human.data')"
   ]
  },
  {
   "cell_type": "code",
   "execution_count": 21,
   "id": "4b0a4d56-bc27-40c7-b618-3d3c4e28b240",
   "metadata": {},
   "outputs": [],
   "source": [
    "df, cls, ndf = utils.load('data/m6aatlas/atlas2_mouse.data')"
   ]
  },
  {
   "cell_type": "code",
   "execution_count": 24,
   "id": "e445cf75-975a-4dab-8323-76be59177b21",
   "metadata": {},
   "outputs": [],
   "source": [
    "df, cls, ndf = utils.load('data/m6aatlas/atlas2_rat.data')"
   ]
  },
  {
   "cell_type": "code",
   "execution_count": 25,
   "id": "3ddd2039-72fc-4f64-95d9-e291121858b2",
   "metadata": {
    "scrolled": true
   },
   "outputs": [
    {
     "name": "stderr",
     "output_type": "stream",
     "text": [
      "100%|██████████| 2878/2878 [00:00<00:00, 7057.88it/s]\n",
      "100%|██████████| 14120/14120 [00:06<00:00, 2059.15it/s]\n"
     ]
    },
    {
     "name": "stdout",
     "output_type": "stream",
     "text": [
      "[Test] ACC: 88.5%, Loss: 0.269515, AUROC: 0.9271, AUPRC: 0.6070, Size: 14120, Ratio: 0.10064\n"
     ]
    },
    {
     "name": "stderr",
     "output_type": "stream",
     "text": [
      "100%|██████████| 2878/2878 [00:00<00:00, 3750.66it/s]\n",
      "100%|██████████| 19555/19555 [00:09<00:00, 2083.31it/s]\n"
     ]
    },
    {
     "name": "stdout",
     "output_type": "stream",
     "text": [
      "[Test] ACC: 87.7%, Loss: 0.285613, AUROC: 0.9189, AUPRC: 0.5763, Size: 19555, Ratio: 0.10263\n"
     ]
    },
    {
     "name": "stderr",
     "output_type": "stream",
     "text": [
      "100%|██████████| 2878/2878 [00:00<00:00, 8628.29it/s]\n",
      "100%|██████████| 10165/10165 [00:04<00:00, 2129.48it/s]\n"
     ]
    },
    {
     "name": "stdout",
     "output_type": "stream",
     "text": [
      "[Test] ACC: 87.2%, Loss: 0.290454, AUROC: 0.9184, AUPRC: 0.6069, Size: 10165, Ratio: 0.10408\n"
     ]
    }
   ],
   "source": [
    "device = \"cuda\" if torch.cuda.is_available() else \"cpu\"\n",
    "model = SRAMP().to(device)\n",
    "model.load_state_dict(torch.load('model/full_400_ythdf_single.model', weights_only=True))\n",
    "loss_fn = TriLoss()\n",
    "\n",
    "result = []\n",
    "for i in cls:\n",
    "    testds = df2ds(df, pos_label=i, neg_label=f'{i}_neg')\n",
    "    testdl = ds2dl(testds, drop_last=False, num_workers=4)\n",
    "    result += [test_loop(testdl, model, device, loss_fn)]\n",
    "\n",
    "utils.save(result, 'model/atlas2_rat_full_400_ythdf_single.metrics')"
   ]
  },
  {
   "cell_type": "code",
   "execution_count": 26,
   "id": "17213be3-4b82-4647-bc8f-d8cd7f772ddb",
   "metadata": {
    "scrolled": true
   },
   "outputs": [
    {
     "name": "stderr",
     "output_type": "stream",
     "text": [
      "100%|██████████| 2878/2878 [00:00<00:00, 4784.84it/s]\n",
      "100%|██████████| 14120/14120 [00:06<00:00, 2072.97it/s]\n"
     ]
    },
    {
     "name": "stdout",
     "output_type": "stream",
     "text": [
      "[Test] ACC: 59.2%, Loss: 0.852105, AUROC: 0.5940, AUPRC: 0.1459, Size: 14120, Ratio: 0.10064\n"
     ]
    },
    {
     "name": "stderr",
     "output_type": "stream",
     "text": [
      "100%|██████████| 2878/2878 [00:00<00:00, 3937.94it/s]\n",
      "100%|██████████| 19555/19555 [00:09<00:00, 2094.08it/s]\n"
     ]
    },
    {
     "name": "stdout",
     "output_type": "stream",
     "text": [
      "[Test] ACC: 58.4%, Loss: 0.871867, AUROC: 0.5693, AUPRC: 0.1336, Size: 19555, Ratio: 0.10263\n"
     ]
    },
    {
     "name": "stderr",
     "output_type": "stream",
     "text": [
      "100%|██████████| 2878/2878 [00:00<00:00, 8464.14it/s]\n",
      "100%|██████████| 10165/10165 [00:04<00:00, 2136.50it/s]\n"
     ]
    },
    {
     "name": "stdout",
     "output_type": "stream",
     "text": [
      "[Test] ACC: 57.4%, Loss: 0.880474, AUROC: 0.5565, AUPRC: 0.1264, Size: 10165, Ratio: 0.10408\n"
     ]
    }
   ],
   "source": [
    "device = \"cuda\" if torch.cuda.is_available() else \"cpu\"\n",
    "params = torch.load('model/full_400_ythdf_dp.model', weights_only=True)\n",
    "dps = [DeepPromise(i).to(device) for i in ['onehot', 'enac', 'embedding']]\n",
    "[dp.load_state_dict(param) for dp, param in zip(dps, params)]\n",
    "model = DeepPromiseEnsemble(*dps).to(device)\n",
    "model.load_state_dict(params[-1])\n",
    "loss_fn = DPLoss()\n",
    "\n",
    "result = []\n",
    "for i in cls:\n",
    "    testds = df2ds(df, pos_label=i, neg_label=f'{i}_neg')\n",
    "    testdl = ds2dl(testds, drop_last=False, num_workers=4)\n",
    "    result += [dp_test_loop(testdl, model, device, loss_fn)]\n",
    "\n",
    "utils.save(result, 'model/atlas2_rat_full_400_ythdf_dp.metrics')\n",
    "    "
   ]
  },
  {
   "cell_type": "code",
   "execution_count": null,
   "id": "5958eaa9-9b37-493b-8819-0b635d1312eb",
   "metadata": {},
   "outputs": [],
   "source": []
  },
  {
   "cell_type": "markdown",
   "id": "f98e40e6-c257-4240-adf5-35b23fd49462",
   "metadata": {
    "jp-MarkdownHeadingCollapsed": true
   },
   "source": [
    "### WHISTLE"
   ]
  },
  {
   "cell_type": "code",
   "execution_count": 16,
   "id": "e790a0a4-13c0-4869-8c14-4873fa68a5c0",
   "metadata": {},
   "outputs": [],
   "source": [
    "def df2bed(testdf, pos_label, neg_label, name=\"\", mode=\"mature\"):\n",
    "    if name == \"\": name = pos_label\n",
    "    whi_test = []\n",
    "    for _, i in tqdm(testdf.iterrows(), total=testdf.shape[0], desc=pos_label):\n",
    "        for j in utils.notnaor(i[pos_label], []):\n",
    "            genome = get_genome_pos(j, i, mode)\n",
    "            whi_test += [[f'chr{i[0] if i[0] != \"MT\" else \"M\"}', genome, genome+1, i[6], 1]]\n",
    "        for j in utils.notnaor(i[neg_label], []):\n",
    "            genome = get_genome_pos(j, i, mode)\n",
    "            whi_test += [[f'chr{i[0] if i[0] != \"MT\" else \"M\"}', genome, genome+1, i[6], 0]]\n",
    "\n",
    "    pd.DataFrame(whi_test, columns=['#chromsome', 'modStart', 'modEnd', 'strand', 'label']).to_csv(f'whistle/data/{name.replace(' ', '.')}_whistle.bed', sep='\\t', index=None, header=None)"
   ]
  },
  {
   "cell_type": "code",
   "execution_count": 18,
   "id": "bce890eb-e55c-4ac8-ac9c-5f52f44fc4d1",
   "metadata": {},
   "outputs": [
    {
     "name": "stderr",
     "output_type": "stream",
     "text": [
      "A549_m6A-CLIP-seq: 100%|██████████| 16707/16707 [00:01<00:00, 13964.35it/s]\n",
      "A549_m6A-seq with improved protocol: 100%|██████████| 16707/16707 [00:01<00:00, 15366.25it/s]\n",
      "Brain_m6A-REF-seq: 100%|██████████| 16707/16707 [00:01<00:00, 16569.59it/s]\n",
      "CD8T_m6A-CLIP-seq: 100%|██████████| 16707/16707 [00:01<00:00, 11846.58it/s]\n",
      "CM2005.1_miCLIP : 100%|██████████| 16707/16707 [00:00<00:00, 19144.22it/s]\n",
      "CRMM1_miCLIP : 100%|██████████| 16707/16707 [00:00<00:00, 21209.22it/s]\n",
      "ESC_MAZTER-seq: 100%|██████████| 16707/16707 [00:02<00:00, 8102.34it/s] \n",
      "HCT116_miCLIP : 100%|██████████| 16707/16707 [00:01<00:00, 14272.44it/s]\n",
      "HEK293_m6A-REF-seq: 100%|██████████| 16707/16707 [00:00<00:00, 19653.80it/s]\n",
      "HEK293_m6A-SAC-seq: 100%|██████████| 16707/16707 [00:01<00:00, 9610.07it/s] \n",
      "HEK293_meCLIP: 100%|██████████| 16707/16707 [00:00<00:00, 20431.84it/s]\n",
      "HEK293_miCLIP : 100%|██████████| 16707/16707 [00:01<00:00, 15282.12it/s]\n",
      "HEK293E_miCLIP : 100%|██████████| 16707/16707 [00:06<00:00, 2551.88it/s]\n",
      "HEK293T_DART-seq: 100%|██████████| 16707/16707 [00:01<00:00, 15390.61it/s]\n",
      "HEK293T_MAZTER-seq: 100%|██████████| 16707/16707 [00:01<00:00, 8645.26it/s] \n",
      "HEK293T_m6A-REF-seq: 100%|██████████| 16707/16707 [00:00<00:00, 20707.71it/s]\n",
      "HEK293T_m6A-label-seq : 100%|██████████| 16707/16707 [00:00<00:00, 20868.89it/s]\n",
      "HEK293T_m6ACE: 100%|██████████| 16707/16707 [00:00<00:00, 21890.93it/s]\n",
      "HEK293T_miCLIP : 100%|██████████| 16707/16707 [00:03<00:00, 5409.10it/s]\n",
      "HEK293T_miCLIP2: 100%|██████████| 16707/16707 [00:01<00:00, 15903.93it/s]\n",
      "HSPC_m6A-SAC-seq: 100%|██████████| 16707/16707 [00:03<00:00, 4564.60it/s]\n",
      "HeLa_PA-m6A-seq: 100%|██████████| 16707/16707 [00:01<00:00, 11988.47it/s]\n",
      "HeLa_m6A-CLIP-seq: 100%|██████████| 16707/16707 [00:00<00:00, 17141.46it/s]\n",
      "HeLa_m6A-SAC-seq: 100%|██████████| 16707/16707 [00:01<00:00, 14108.55it/s]\n",
      "HeLa_miCLIP : 100%|██████████| 16707/16707 [00:02<00:00, 5908.96it/s]\n",
      "HepG2_m6A-SAC-seq: 100%|██████████| 16707/16707 [00:01<00:00, 12653.27it/s]\n",
      "HepG2_miCLIP : 100%|██████████| 16707/16707 [00:01<00:00, 11162.59it/s]\n",
      "Kidney_m6A-REF-seq: 100%|██████████| 16707/16707 [00:00<00:00, 19289.37it/s]\n",
      "LNCaP_miCLIP : 100%|██████████| 16707/16707 [00:00<00:00, 18280.15it/s]\n",
      "Liver_m6A-REF-seq: 100%|██████████| 16707/16707 [00:00<00:00, 19177.54it/s]\n",
      "MCF7_meCLIP: 100%|██████████| 16707/16707 [00:00<00:00, 20682.90it/s]\n",
      "MDAMB231_meCLIP: 100%|██████████| 16707/16707 [00:00<00:00, 21601.74it/s]\n",
      "MOLM13_miCLIP : 100%|██████████| 16707/16707 [00:01<00:00, 13332.13it/s]\n",
      "OCM1_miCLIP : 100%|██████████| 16707/16707 [00:00<00:00, 20613.44it/s]\n",
      "OCM1a_miCLIP : 100%|██████████| 16707/16707 [00:00<00:00, 23228.07it/s]\n",
      "OM431_miCLIP : 100%|██████████| 16707/16707 [00:00<00:00, 19784.82it/s]\n",
      "PIG1_miCLIP : 100%|██████████| 16707/16707 [00:00<00:00, 20084.94it/s]\n",
      "RWPE_miCLIP : 100%|██████████| 16707/16707 [00:01<00:00, 14707.21it/s]\n"
     ]
    }
   ],
   "source": [
    "for i in cls:\n",
    "    df2bed(df, i, f'{i}_neg')\n"
   ]
  },
  {
   "cell_type": "code",
   "execution_count": 10,
   "id": "541c721e-1f1a-42de-ab87-78c8b6f1a9ee",
   "metadata": {},
   "outputs": [
    {
     "data": {
      "text/plain": [
       "19"
      ]
     },
     "execution_count": 10,
     "metadata": {},
     "output_type": "execute_result"
    }
   ],
   "source": [
    "len(cls)"
   ]
  },
  {
   "cell_type": "markdown",
   "id": "07a53b46-948a-4300-8299-47b0522a1d45",
   "metadata": {
    "jp-MarkdownHeadingCollapsed": true
   },
   "source": [
    "## Test on Multiple Model"
   ]
  },
  {
   "cell_type": "code",
   "execution_count": 32,
   "id": "a9070d16-fd75-4a88-8f91-af979a8274c5",
   "metadata": {},
   "outputs": [],
   "source": [
    "df, cls, ndf = utils.load('data/m6aatlas/atlas2_human.data')"
   ]
  },
  {
   "cell_type": "code",
   "execution_count": null,
   "id": "6d5f2d07-767f-4103-a123-d96d24792aa5",
   "metadata": {},
   "outputs": [],
   "source": [
    "df, cls, ndf = utils.load('data/m6aatlas/atlas2_mouse.data')"
   ]
  },
  {
   "cell_type": "code",
   "execution_count": 2,
   "id": "72b5711d-10c6-4a3d-8d19-ea279a208204",
   "metadata": {},
   "outputs": [],
   "source": [
    "df, cls, ndf = utils.load('data/m6aatlas/atlas2_rat.data')"
   ]
  },
  {
   "cell_type": "code",
   "execution_count": 5,
   "id": "605eebd6-340f-407b-b71b-43587e68e731",
   "metadata": {},
   "outputs": [
    {
     "name": "stderr",
     "output_type": "stream",
     "text": [
      "100%|██████████| 2878/2878 [00:02<00:00, 1027.99it/s]\n",
      "100%|██████████| 2878/2878 [00:04<00:00, 713.33it/s]\n",
      "100%|██████████| 2878/2878 [00:04<00:00, 584.65it/s]\n"
     ]
    }
   ],
   "source": [
    "data_dfs = {}\n",
    "dfs = Parallel(n_jobs=20)(delayed(task_transform)(name) for idx, name in enumerate(cls))\n",
    "data_dfs = dict(dfs)"
   ]
  },
  {
   "cell_type": "code",
   "execution_count": 6,
   "id": "354bfedf-3c09-41a0-bfbf-59169a791452",
   "metadata": {},
   "outputs": [
    {
     "name": "stderr",
     "output_type": "stream",
     "text": [
      "100%|██████████| 19619/19619 [00:11<00:00, 1716.76it/s]\n"
     ]
    },
    {
     "name": "stdout",
     "output_type": "stream",
     "text": [
      "[Test] ACC: 88.2%, Loss: 0.300866, AUROC: 0.9364, AUPRC: 0.6450, Size: 14118, Ratio: 0.10058\n"
     ]
    },
    {
     "name": "stderr",
     "output_type": "stream",
     "text": [
      "100%|██████████| 25983/25983 [00:13<00:00, 1944.61it/s]\n"
     ]
    },
    {
     "name": "stdout",
     "output_type": "stream",
     "text": [
      "[Test] ACC: 87.1%, Loss: 0.322018, AUROC: 0.9272, AUPRC: 0.6024, Size: 19550, Ratio: 0.10256\n"
     ]
    },
    {
     "name": "stderr",
     "output_type": "stream",
     "text": [
      "100%|██████████| 13482/13482 [00:06<00:00, 1990.37it/s]\n"
     ]
    },
    {
     "name": "stdout",
     "output_type": "stream",
     "text": [
      "[Test] ACC: 86.5%, Loss: 0.329232, AUROC: 0.9270, AUPRC: 0.6252, Size: 10160, Ratio: 0.10413\n"
     ]
    }
   ],
   "source": [
    "device = \"cuda\" if torch.cuda.is_available() else \"cpu\"\n",
    "model = MultiSRAMP().to(device)\n",
    "model.load_state_dict(torch.load('model/full_400_ythdf.model', weights_only=True))\n",
    "# model.load_state_dict(torch.load('model/full_400_mature.model', weights_only=True))\n",
    "loss_fn = TriLoss()\n",
    "\n",
    "result = []\n",
    "for i in cls:\n",
    "    testds = df2ds_multi(data_dfs[i])\n",
    "    testdl = ds2dl(testds, drop_last=False, num_workers=4)\n",
    "    result += [test_loop(testdl, model, device, loss_fn)]\n"
   ]
  },
  {
   "cell_type": "code",
   "execution_count": null,
   "id": "a3157c55-c709-473a-893a-a4d5946bd6a0",
   "metadata": {},
   "outputs": [],
   "source": [
    "utils.save(result, 'data/m6aatlas/atlas2_human.metrics')"
   ]
  },
  {
   "cell_type": "code",
   "execution_count": 10,
   "id": "77b4f93a-714c-4dba-9dc8-31e86d6c23d1",
   "metadata": {},
   "outputs": [],
   "source": [
    "utils.save(result, 'data/m6aatlas/atlas2_mouse.metrics')"
   ]
  },
  {
   "cell_type": "code",
   "execution_count": 7,
   "id": "ad9c278d-aa99-4046-a241-02e576d0ee49",
   "metadata": {},
   "outputs": [],
   "source": [
    "utils.save(result, 'data/m6aatlas/atlas2_rat.metrics')"
   ]
  },
  {
   "cell_type": "code",
   "execution_count": null,
   "id": "c5ddc3c1-8d3f-483d-8fb3-fef2ac9fe17a",
   "metadata": {},
   "outputs": [],
   "source": []
  },
  {
   "cell_type": "code",
   "execution_count": null,
   "id": "66c08c87-2e33-42c6-bbf4-211c2b698ed7",
   "metadata": {},
   "outputs": [],
   "source": []
  },
  {
   "cell_type": "markdown",
   "id": "43a79a84-aeba-415a-94ad-a77ebb4cd2a4",
   "metadata": {
    "jp-MarkdownHeadingCollapsed": true
   },
   "source": [
    "## Plot"
   ]
  },
  {
   "cell_type": "code",
   "execution_count": 8,
   "id": "b8822d00-f34a-409b-ad8e-31d758ca7e05",
   "metadata": {},
   "outputs": [],
   "source": [
    "import matplotlib.pyplot as plt\n",
    "import seaborn as sns\n",
    "from matplotlib import font_manager\n",
    "font_manager.fontManager.addfont('/home/fanrui/fonts/ARIAL.TTF')\n",
    "plt.rcParams['svg.fonttype'] = 'none'\n",
    "plt.rcParams['font.family'] = 'Arial'\n",
    "plt.rcParams['font.size'] = 10"
   ]
  },
  {
   "cell_type": "code",
   "execution_count": null,
   "id": "36d7ce03-f0b5-4d98-a17b-2d66be63836c",
   "metadata": {},
   "outputs": [],
   "source": []
  },
  {
   "cell_type": "code",
   "execution_count": 9,
   "id": "f491d166-d49f-45bb-a0f6-6d8a1d1c7a49",
   "metadata": {},
   "outputs": [],
   "source": [
    "_, cls, _ = utils.load('data/m6aatlas/atlas2_human.data')\n",
    "result = utils.load('data/m6aatlas/atlas2_human.metrics')"
   ]
  },
  {
   "cell_type": "code",
   "execution_count": 10,
   "id": "cf1ddd76-0b44-47dd-bfb6-9b14756335b5",
   "metadata": {},
   "outputs": [],
   "source": [
    "df = []\n",
    "for name, i in zip(cls, result):\n",
    "    name = name.split('_')\n",
    "    # df += [[name[0], name[1], i[-1]['1.0']['precision']]]\n",
    "    df += [[name[0], name[1], i[2]]]\n",
    "df = pd.DataFrame(df).replace({'m6A-seq with improved protocol': 'm6A-seq\\n(improved)'})"
   ]
  },
  {
   "cell_type": "code",
   "execution_count": 11,
   "id": "52f3f234-8efe-4c10-b735-d0dfdda9298f",
   "metadata": {},
   "outputs": [
    {
     "data": {
      "text/plain": [
       "np.float64(0.6585631844146544)"
      ]
     },
     "execution_count": 11,
     "metadata": {},
     "output_type": "execute_result"
    }
   ],
   "source": [
    "df[2].mean()"
   ]
  },
  {
   "cell_type": "code",
   "execution_count": 12,
   "id": "678bf925-e36f-477e-bd48-0b1b1bb78b8a",
   "metadata": {},
   "outputs": [],
   "source": [
    "df.to_csv('fig/atlas2_human.csv')"
   ]
  },
  {
   "cell_type": "code",
   "execution_count": 13,
   "id": "8f8960ff-719e-4b2e-846d-a7c1fcd5ddc6",
   "metadata": {},
   "outputs": [
    {
     "data": {
      "text/plain": [
       "Index(['meCLIP', 'm6A-seq\\n(improved)', 'miCLIP2', 'm6ACE', 'm6A-CLIP-seq',\n",
       "       'm6A-REF-seq', 'm6A-label-seq ', 'miCLIP ', 'PA-m6A-seq', 'm6A-SAC-seq',\n",
       "       'DART-seq', 'MAZTER-seq'],\n",
       "      dtype='object', name=1)"
      ]
     },
     "execution_count": 13,
     "metadata": {},
     "output_type": "execute_result"
    }
   ],
   "source": [
    "df.groupby(1).agg({2: 'mean'}).sort_values(2).index[::-1]"
   ]
  },
  {
   "cell_type": "code",
   "execution_count": null,
   "id": "f7425aea-77cd-4ed0-9e53-93ae24f571e6",
   "metadata": {
    "scrolled": true
   },
   "outputs": [],
   "source": []
  },
  {
   "cell_type": "code",
   "execution_count": 15,
   "id": "6d68f449-d302-48df-8f26-02105309cd15",
   "metadata": {},
   "outputs": [],
   "source": [
    "cmaps = []\n",
    "cmaps += list(zip(['OCM1', 'OCM1a', 'OM431', 'PIG1', 'CM2005.1', 'CRMM1'], sns.color_palette('Blues', 6*2)[:5:-1]))\n",
    "cmaps += list(zip(['HEK293', 'HEK293E', 'HEK293T'], sns.color_palette('autumn', 3*2)[:2:-1]))\n",
    "cmaps += list(zip(['LNCaP', 'RWPE'], sns.color_palette('Greens', 2*2)[:1:-1]))\n",
    "cmaps += list(zip(['MCF7', 'MDAMB231'], sns.color_palette('Reds', 2*2)[:1:-1]))\n",
    "cmaps += list(zip(['ESC', 'HSPC', 'MOLM13'], sns.color_palette('Purples', 3*2)[:2:-1]))\n",
    "cmaps += list(zip(['A549', 'HepG2', 'CD8T', 'HCT116', 'HeLa'], sns.color_palette('tab10')[5:]))"
   ]
  },
  {
   "cell_type": "code",
   "execution_count": 16,
   "id": "2574611d-8c42-4271-ae74-a3cd32c30194",
   "metadata": {},
   "outputs": [
    {
     "name": "stderr",
     "output_type": "stream",
     "text": [
      "/home/fanrui/miniforge3/envs/sramp/lib/python3.12/site-packages/seaborn/categorical.py:3399: UserWarning: 6.7% of the points cannot be placed; you may want to decrease the size of the markers or use stripplot.\n",
      "  warnings.warn(msg, UserWarning)\n",
      "/home/fanrui/miniforge3/envs/sramp/lib/python3.12/site-packages/seaborn/categorical.py:3399: UserWarning: 6.7% of the points cannot be placed; you may want to decrease the size of the markers or use stripplot.\n",
      "  warnings.warn(msg, UserWarning)\n"
     ]
    },
    {
     "data": {
      "image/png": "[encoded data removed]",
      "text/plain": [
       "<Figure size 800x600 with 1 Axes>"
      ]
     },
     "metadata": {},
     "output_type": "display_data"
    }
   ],
   "source": [
    "fig = plt.figure(figsize=(8, 6))\n",
    "ax = fig.subplots()\n",
    "ax.spines['top'].set_visible(False)\n",
    "ax.spines['right'].set_visible(False)\n",
    "\n",
    "order = ['meCLIP', 'm6A-seq\\n(improved)', 'miCLIP2', 'm6ACE', 'm6A-CLIP-seq',\n",
    "       'm6A-REF-seq', 'm6A-label-seq ', 'miCLIP ', 'PA-m6A-seq', 'm6A-SAC-seq',\n",
    "       'DART-seq', 'MAZTER-seq']\n",
    "# sns.stripplot(df[~df[0].isin(['Brain', 'Liver', 'Kidney'])], x=1, y=2, hue=0, s=10, alpha=.75, palette=dict(cmaps), jitter=.2, linewidth=1, order=order)\n",
    "# sns.stripplot(df[df[0].isin(['Brain', 'Liver', 'Kidney'])], x=1, y=2, hue=0, order=order, s=10, alpha=.75, palette='tab10', jitter=.2, linewidth=1, marker='D')\n",
    "sns.swarmplot(df[~df[0].isin(['Brain', 'Liver', 'Kidney'])], x=1, y=2, hue=0, s=10, alpha=.75, palette=dict(cmaps), linewidth=1, order=order)\n",
    "sns.swarmplot(df[df[0].isin(['Brain', 'Liver', 'Kidney'])], x=1, y=2, hue=0, order=order, s=10, alpha=.75, palette='tab10', linewidth=1, marker='D')\n",
    "\n",
    "for idx, i in enumerate(order):\n",
    "    plt.vlines(idx+0.5, df[2].min(), df[2].max(), linestyles='dashed', color='grey', lw=.2)\n",
    "\n",
    "plt.ylabel('AUPRC')\n",
    "plt.xlabel('')\n",
    "plt.xticks(rotation=30)\n",
    "\n",
    "handles, labels = plt.gca().get_legend_handles_labels()\n",
    "should = ['OCM1', 'OCM1a', 'OM431', 'PIG1', 'CM2005.1', 'CRMM1', 'HEK293', 'HEK293E', 'HEK293T', 'ESC', 'HSPC', 'MOLM13', 'LNCaP', 'RWPE', 'MCF7', 'MDAMB231', 'A549', 'HepG2', 'CD8T', 'HCT116', 'HeLa', 'Brain', 'Liver', 'Kidney']\n",
    "order = [labels.index(i) for i in should]\n",
    "plt.legend([handles[idx] for idx in order],[labels[idx] for idx in order], loc='lower left', ncol=2, frameon=False)\n",
    "plt.title('Human')\n",
    "plt.tight_layout()\n",
    "plt.savefig('fig/atlas2_human_prc.svg')\n",
    "plt.show()"
   ]
  },
  {
   "cell_type": "code",
   "execution_count": null,
   "id": "37fbf033-6f51-4907-8fe8-7f41d5745448",
   "metadata": {},
   "outputs": [],
   "source": []
  },
  {
   "cell_type": "code",
   "execution_count": 17,
   "id": "2f6e5e81-1873-4bff-8512-0143464b4991",
   "metadata": {},
   "outputs": [],
   "source": [
    "_, cls, _ = utils.load('data/m6aatlas/atlas2_mouse.data')\n",
    "result = utils.load('data/m6aatlas/atlas2_mouse.metrics')"
   ]
  },
  {
   "cell_type": "code",
   "execution_count": 18,
   "id": "da9c4ea4-db55-42eb-8853-a7a58ef65ab7",
   "metadata": {},
   "outputs": [],
   "source": [
    "df = []\n",
    "for name, i in zip(cls, result):\n",
    "    name = name.split('_')\n",
    "    # df += [[name[0], name[1], i[-1]['1.0']['precision']]]\n",
    "    df += [[name[0], name[1], i[2]]]\n",
    "df = pd.DataFrame(df).replace({'m6A-seq with improved protocol': 'm6A-seq\\n(improved)'})\n",
    "df = df.replace({'Mouse Embryonic Fibroblasts (MEFs)': 'MEFs', 'dorsal root ganglion?(DRG)': 'DRG', 'macrophages': 'Macrophages'})"
   ]
  },
  {
   "cell_type": "code",
   "execution_count": 19,
   "id": "821facab-ffb3-48b2-8b8a-39d4641f146f",
   "metadata": {},
   "outputs": [
    {
     "data": {
      "text/plain": [
       "np.float64(0.658177311538554)"
      ]
     },
     "execution_count": 19,
     "metadata": {},
     "output_type": "execute_result"
    }
   ],
   "source": [
    "df[2].mean()"
   ]
  },
  {
   "cell_type": "code",
   "execution_count": 20,
   "id": "9bfaa0e5-0aef-4412-a66a-0e58c5064449",
   "metadata": {},
   "outputs": [],
   "source": [
    "df.to_csv('fig/atlas2_mouse.csv')"
   ]
  },
  {
   "cell_type": "code",
   "execution_count": 21,
   "id": "a5b5dd37-2496-439e-9f2c-9220cfcf154b",
   "metadata": {},
   "outputs": [
    {
     "data": {
      "text/plain": [
       "Index(['MAZTER-seq', 'm6A-seq2', 'm6A-seq\\n(improved)', 'miCLIP2',\n",
       "       'm6A-CLIP-seq', 'm6A-REF-seq', 'miCLIP '],\n",
       "      dtype='object', name=1)"
      ]
     },
     "execution_count": 21,
     "metadata": {},
     "output_type": "execute_result"
    }
   ],
   "source": [
    "df.groupby(1).agg({2: 'mean'}).sort_values(2).index[::-1]"
   ]
  },
  {
   "cell_type": "code",
   "execution_count": 22,
   "id": "f03def5d-de0a-4920-95c4-e34efc8a1ca1",
   "metadata": {},
   "outputs": [
    {
     "data": {
      "image/png": "[encoded data removed]",
      "text/plain": [
       "<Figure size 500x400 with 1 Axes>"
      ]
     },
     "metadata": {},
     "output_type": "display_data"
    }
   ],
   "source": [
    "fig = plt.figure(figsize=(5, 4))\n",
    "ax = fig.subplots()\n",
    "ax.spines['top'].set_visible(False)\n",
    "ax.spines['right'].set_visible(False)\n",
    "\n",
    "order = ['MAZTER-seq', 'm6A-seq2', 'm6A-seq\\n(improved)', 'miCLIP2',\n",
    "       'm6A-CLIP-seq', 'm6A-REF-seq', 'miCLIP ']\n",
    "# sns.stripplot(df[~df[0].isin(['Brain', 'Liver', 'Kidney', 'Heart', 'Skin', 'Testis'])], x=1, y=2, hue=0, s=10, alpha=.75, palette='tab10', jitter=.1, linewidth=1, order=order)\n",
    "# sns.stripplot(df[df[0].isin(['Brain', 'Liver', 'Kidney', 'Heart', 'Skin', 'Testis'])], x=1, y=2, hue=0, order=order, s=10, alpha=.75, palette='tab10', jitter=.1, linewidth=1, marker='D')\n",
    "\n",
    "sns.swarmplot(df[df[0].isin(['Brain', 'Liver', 'Kidney', 'Heart', 'Skin', 'Testis', 'DRG'])], x=1, y=2, hue=0, s=10, alpha=.75, palette='tab10', linewidth=1, order=order, marker='D')\n",
    "sns.swarmplot(df[~df[0].isin(['Brain', 'Liver', 'Kidney', 'Heart', 'Skin', 'Testis', 'DRG'])], x=1, y=2, hue=0, s=10, alpha=.75, palette='tab10', linewidth=1, order=order)\n",
    "\n",
    "for idx, i in enumerate(order):\n",
    "    plt.vlines(idx+0.5, df[2].min(), df[2].max(), linestyles='dashed', color='grey', lw=.2)\n",
    "    \n",
    "plt.ylabel('AUPRC')\n",
    "plt.xlabel('')\n",
    "plt.xticks(rotation=30)\n",
    "\n",
    "# handles, labels = plt.gca().get_legend_handles_labels()\n",
    "# should = ['OCM1', 'OCM1a', 'OM431', 'PIG1', 'CM2005.1', 'CRMM1', 'HEK293', 'HEK293E', 'HEK293T', 'ESC', 'HSPC', 'MOLM13', 'LNCaP', 'RWPE', 'MCF7', 'MDAMB231', 'A549', 'HepG2', 'CD8T', 'HCT116', 'HeLa', 'Brain', 'Liver', 'Kidney']\n",
    "# order = [labels.index(i) for i in should]\n",
    "# plt.legend([handles[idx] for idx in order],[labels[idx] for idx in order], bbox_to_anchor=(1, 1), loc=2)\n",
    "# plt.legend(bbox_to_anchor=(1, 1), loc=2)\n",
    "plt.legend(loc='lower left', ncol=2, frameon=False)\n",
    "plt.title('Mouse')\n",
    "plt.tight_layout()\n",
    "plt.savefig('fig/atlas2_mouse_prc.svg')\n",
    "plt.show()"
   ]
  },
  {
   "cell_type": "code",
   "execution_count": null,
   "id": "77c963e5-38eb-428c-9004-8a865e8cb90b",
   "metadata": {},
   "outputs": [],
   "source": []
  },
  {
   "cell_type": "code",
   "execution_count": 23,
   "id": "54266745-f360-4a4a-af35-bfaee2ad260d",
   "metadata": {},
   "outputs": [],
   "source": [
    "_, cls, _ = utils.load('data/m6aatlas/atlas2_rat.data')\n",
    "result = utils.load('data/m6aatlas/atlas2_rat.metrics')"
   ]
  },
  {
   "cell_type": "code",
   "execution_count": 24,
   "id": "3e6eb13d-8b15-479a-90d6-a6a266650b2b",
   "metadata": {},
   "outputs": [],
   "source": [
    "df = []\n",
    "for name, i in zip(cls, result):\n",
    "    name = name.split('_')\n",
    "    # df += [[name[0], name[1], i[-1]['1.0']['precision']]]\n",
    "    df += [[name[0], name[1], i[2]]]\n",
    "df = pd.DataFrame(df).replace({'m6A-seq with improved protocol': 'm6A-seq\\n(improved)'})\n",
    "df = df.replace({'Mouse Embryonic Fibroblasts (MEFs)': 'MEFs', 'dorsal root ganglion?(DRG)': 'DRG', 'macrophages': 'Macrophages'})"
   ]
  },
  {
   "cell_type": "code",
   "execution_count": 25,
   "id": "eaa0b962-8eb8-45c6-88df-1530ed23fecd",
   "metadata": {},
   "outputs": [
    {
     "data": {
      "text/html": [
       "<div>\n",
       "<style scoped>\n",
       "    .dataframe tbody tr th:only-of-type {\n",
       "        vertical-align: middle;\n",
       "    }\n",
       "\n",
       "    .dataframe tbody tr th {\n",
       "        vertical-align: top;\n",
       "    }\n",
       "\n",
       "    .dataframe thead th {\n",
       "        text-align: right;\n",
       "    }\n",
       "</style>\n",
       "<table border=\"1\" class=\"dataframe\">\n",
       "  <thead>\n",
       "    <tr style=\"text-align: right;\">\n",
       "      <th></th>\n",
       "      <th>0</th>\n",
       "      <th>1</th>\n",
       "      <th>2</th>\n",
       "    </tr>\n",
       "  </thead>\n",
       "  <tbody>\n",
       "    <tr>\n",
       "      <th>0</th>\n",
       "      <td>Brain</td>\n",
       "      <td>m6A-REF-seq</td>\n",
       "      <td>0.645015</td>\n",
       "    </tr>\n",
       "    <tr>\n",
       "      <th>1</th>\n",
       "      <td>Kidney</td>\n",
       "      <td>m6A-REF-seq</td>\n",
       "      <td>0.602383</td>\n",
       "    </tr>\n",
       "    <tr>\n",
       "      <th>2</th>\n",
       "      <td>Liver</td>\n",
       "      <td>m6A-REF-seq</td>\n",
       "      <td>0.625162</td>\n",
       "    </tr>\n",
       "  </tbody>\n",
       "</table>\n",
       "</div>"
      ],
      "text/plain": [
       "        0            1         2\n",
       "0   Brain  m6A-REF-seq  0.645015\n",
       "1  Kidney  m6A-REF-seq  0.602383\n",
       "2   Liver  m6A-REF-seq  0.625162"
      ]
     },
     "execution_count": 25,
     "metadata": {},
     "output_type": "execute_result"
    }
   ],
   "source": [
    "df#[2].mean()"
   ]
  },
  {
   "cell_type": "code",
   "execution_count": 26,
   "id": "2a362c73-c7f9-43e9-9e08-2279aecc4203",
   "metadata": {},
   "outputs": [],
   "source": [
    "df.to_csv('fig/atlas2_rat.csv')"
   ]
  },
  {
   "cell_type": "code",
   "execution_count": 27,
   "id": "a91e1de1-2418-4fed-b00c-e9057736853a",
   "metadata": {},
   "outputs": [
    {
     "data": {
      "text/plain": [
       "Index(['m6A-REF-seq'], dtype='object', name=1)"
      ]
     },
     "execution_count": 27,
     "metadata": {},
     "output_type": "execute_result"
    }
   ],
   "source": [
    "df.groupby(1).agg({2: 'mean'}).sort_values(2).index[::-1]"
   ]
  },
  {
   "cell_type": "code",
   "execution_count": 28,
   "id": "b47c559c-87dc-4130-83b6-ec8a4124a00f",
   "metadata": {},
   "outputs": [
    {
     "data": {
      "image/png": "[encoded data removed]",
      "text/plain": [
       "<Figure size 300x400 with 1 Axes>"
      ]
     },
     "metadata": {},
     "output_type": "display_data"
    }
   ],
   "source": [
    "fig = plt.figure(figsize=(3, 4))\n",
    "ax = fig.subplots()\n",
    "ax.spines['top'].set_visible(False)\n",
    "ax.spines['right'].set_visible(False)\n",
    "\n",
    "order = ['m6A-REF-seq']\n",
    "sns.swarmplot(df, x=1, y=2, hue=0, s=10, alpha=.75, palette='tab10', linewidth=1, order=order, marker='D')\n",
    "\n",
    "plt.ylabel('AUPRC')\n",
    "plt.xlabel('')\n",
    "plt.xticks(rotation=30)\n",
    "\n",
    "# handles, labels = plt.gca().get_legend_handles_labels()\n",
    "# should = ['OCM1', 'OCM1a', 'OM431', 'PIG1', 'CM2005.1', 'CRMM1', 'HEK293', 'HEK293E', 'HEK293T', 'ESC', 'HSPC', 'MOLM13', 'LNCaP', 'RWPE', 'MCF7', 'MDAMB231', 'A549', 'HepG2', 'CD8T', 'HCT116', 'HeLa', 'Brain', 'Liver', 'Kidney']\n",
    "# order = [labels.index(i) for i in should]\n",
    "# plt.legend([handles[idx] for idx in order],[labels[idx] for idx in order], bbox_to_anchor=(1, 1), loc=2)\n",
    "# plt.legend(bbox_to_anchor=(1, 1), loc=2)\n",
    "plt.legend(bbox_to_anchor=(1, 1), loc=2, frameon=False)\n",
    "plt.title('Rat')\n",
    "plt.tight_layout()\n",
    "plt.savefig('fig/atlas2_rat_prc.svg')\n",
    "plt.show()"
   ]
  },
  {
   "cell_type": "code",
   "execution_count": null,
   "id": "5e3ca26a-7d8b-40b2-be35-249cc7e15b35",
   "metadata": {},
   "outputs": [],
   "source": []
  },
  {
   "cell_type": "markdown",
   "id": "3cc2e97b-c08f-44b4-b895-b1a96622dd12",
   "metadata": {
    "jp-MarkdownHeadingCollapsed": true
   },
   "source": [
    "## Performance"
   ]
  },
  {
   "cell_type": "code",
   "execution_count": 29,
   "id": "d7012d84-ddc0-4ce2-99c0-2a47b91069cb",
   "metadata": {},
   "outputs": [],
   "source": [
    "_, cls, _ = utils.load('data/m6aatlas/atlas2_human.data')\n",
    "whistle = utils.load('whistle/model/atlas2.metrics')\n",
    "whistle = dict(whistle)"
   ]
  },
  {
   "cell_type": "code",
   "execution_count": 32,
   "id": "07a26277-6c14-4e6e-b69e-917db5bed797",
   "metadata": {},
   "outputs": [],
   "source": [
    "result = []\n",
    "for j in cls:\n",
    "    key = f'data/{j.replace(' ', '.')}_whistle.bed.hg19.bed.out.csv'\n",
    "    k = whistle[key]\n",
    "    j = j.split('_')\n",
    "    result += [('human', 'WHISTLE', j[0], j[1], k[2])]\n",
    "\n",
    "for method in ['single', 'dp']:\n",
    "    for i in ['human', 'mouse', 'rat']:\n",
    "        _, cls, _ = utils.load(f'data/m6aatlas/atlas2_{i}.data')\n",
    "        test_res = utils.load(f'model/atlas2_{i}_full_400_ythdf_{method}.metrics')\n",
    "        for j, k in zip(cls, test_res):\n",
    "            j = j.split('_')\n",
    "            result += [(i, method, j[0], j[1], k[2])]\n",
    "\n",
    "for i in ['human', 'mouse', 'rat']:\n",
    "    _, cls, _ = utils.load(f'data/m6aatlas/atlas2_{i}.data')\n",
    "    r = utils.load(f'data/m6aatlas/atlas2_{i}.metrics')\n",
    "    for j, k in zip(cls, r):\n",
    "        j = j.split('_')\n",
    "        result += [(i, 'deepSRAMP', j[0], j[1], k[2])]\n"
   ]
  },
  {
   "cell_type": "code",
   "execution_count": 33,
   "id": "59e43e68-10f0-4aee-a6a6-70e3ef699fb4",
   "metadata": {},
   "outputs": [],
   "source": [
    "pd.DataFrame(result).replace({\n",
    "    'human': 'Human', \n",
    "    'mouse': 'Mouse',\n",
    "    'rat': 'Rat',\n",
    "    'dp': 'DeepPromise',\n",
    "    'single': 'deepSRAMP_single',\n",
    "}).set_index([0, 2, 3, 1]).unstack()[4][['deepSRAMP', 'deepSRAMP_single', 'WHISTLE', 'DeepPromise']].to_csv('fig/atlas2_performance.csv')"
   ]
  },
  {
   "cell_type": "code",
   "execution_count": null,
   "id": "d126771d-66ff-48c2-b635-8d47a9d1c364",
   "metadata": {},
   "outputs": [],
   "source": []
  },
  {
   "cell_type": "code",
   "execution_count": null,
   "id": "d4836f88-990f-4791-8b63-7948d4360279",
   "metadata": {},
   "outputs": [],
   "source": []
  }
 ],
 "metadata": {
  "kernelspec": {
   "display_name": "Python [conda env:sramp]",
   "language": "python",
   "name": "conda-env-sramp-py"
  },
  "language_info": {
   "codemirror_mode": {
    "name": "ipython",
    "version": 3
   },
   "file_extension": ".py",
   "mimetype": "text/x-python",
   "name": "python",
   "nbconvert_exporter": "python",
   "pygments_lexer": "ipython3",
   "version": "3.12.0"
  }
 },
 "nbformat": 4,
 "nbformat_minor": 5
}
